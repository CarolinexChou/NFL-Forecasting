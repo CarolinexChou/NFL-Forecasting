{
 "cells": [
  {
   "cell_type": "code",
   "execution_count": 1,
   "id": "47e3771a",
   "metadata": {},
   "outputs": [],
   "source": [
    "import pandas as pd\n",
    "import numpy as np"
   ]
  },
  {
   "cell_type": "code",
   "execution_count": 2,
   "id": "65f43f7d",
   "metadata": {},
   "outputs": [],
   "source": [
    "file1  = pd.read_excel(r'C:\\Users\\ASUS\\Documents\\Class\\Applied Forecasting Model\\Kansas City Chiefs_clean.xlsx')\n",
    "file2  = pd.read_excel(r'C:\\Users\\ASUS\\Documents\\Class\\Applied Forecasting Model\\Philadelphia Eagles_clean.xlsx')"
   ]
  },
  {
   "cell_type": "code",
   "execution_count": 3,
   "id": "62bbf89c",
   "metadata": {},
   "outputs": [
    {
     "data": {
      "text/html": [
       "<div>\n",
       "<style scoped>\n",
       "    .dataframe tbody tr th:only-of-type {\n",
       "        vertical-align: middle;\n",
       "    }\n",
       "\n",
       "    .dataframe tbody tr th {\n",
       "        vertical-align: top;\n",
       "    }\n",
       "\n",
       "    .dataframe thead th {\n",
       "        text-align: right;\n",
       "    }\n",
       "</style>\n",
       "<table border=\"1\" class=\"dataframe\">\n",
       "  <thead>\n",
       "    <tr style=\"text-align: right;\">\n",
       "      <th></th>\n",
       "      <th>Team</th>\n",
       "      <th>Score</th>\n",
       "      <th>1stD_Offense</th>\n",
       "      <th>TotYd_Offense</th>\n",
       "      <th>PassY_Offense</th>\n",
       "      <th>RushY_Offense</th>\n",
       "      <th>TO_Offense</th>\n",
       "      <th>1stD_Defense</th>\n",
       "      <th>TotYd_Defense</th>\n",
       "      <th>PassY_Defense</th>\n",
       "      <th>RushY_Defense</th>\n",
       "      <th>TO_Defense</th>\n",
       "    </tr>\n",
       "  </thead>\n",
       "  <tbody>\n",
       "    <tr>\n",
       "      <th>0</th>\n",
       "      <td>Kansas City Chiefs</td>\n",
       "      <td>28.375</td>\n",
       "      <td>25.125</td>\n",
       "      <td>418.875</td>\n",
       "      <td>299.25</td>\n",
       "      <td>119.625</td>\n",
       "      <td>1.125</td>\n",
       "      <td>21.5</td>\n",
       "      <td>338.375</td>\n",
       "      <td>228.125</td>\n",
       "      <td>110.25</td>\n",
       "      <td>1.125</td>\n",
       "    </tr>\n",
       "  </tbody>\n",
       "</table>\n",
       "</div>"
      ],
      "text/plain": [
       "                 Team   Score  1stD_Offense  TotYd_Offense  PassY_Offense  \\\n",
       "0  Kansas City Chiefs  28.375        25.125        418.875         299.25   \n",
       "\n",
       "   RushY_Offense  TO_Offense  1stD_Defense  TotYd_Defense  PassY_Defense  \\\n",
       "0        119.625       1.125          21.5        338.375        228.125   \n",
       "\n",
       "   RushY_Defense  TO_Defense  \n",
       "0         110.25       1.125  "
      ]
     },
     "execution_count": 3,
     "metadata": {},
     "output_type": "execute_result"
    }
   ],
   "source": [
    "#use average of playoffs as predict data\n",
    "test1 = file1.iloc[[17,18,36,37,38,55,56,57],:].groupby(\"Team\").mean().reset_index(drop=False)\n",
    "test1"
   ]
  },
  {
   "cell_type": "code",
   "execution_count": 4,
   "id": "252ab6e4",
   "metadata": {},
   "outputs": [
    {
     "data": {
      "text/html": [
       "<div>\n",
       "<style scoped>\n",
       "    .dataframe tbody tr th:only-of-type {\n",
       "        vertical-align: middle;\n",
       "    }\n",
       "\n",
       "    .dataframe tbody tr th {\n",
       "        vertical-align: top;\n",
       "    }\n",
       "\n",
       "    .dataframe thead th {\n",
       "        text-align: right;\n",
       "    }\n",
       "</style>\n",
       "<table border=\"1\" class=\"dataframe\">\n",
       "  <thead>\n",
       "    <tr style=\"text-align: right;\">\n",
       "      <th></th>\n",
       "      <th>Team</th>\n",
       "      <th>Score</th>\n",
       "      <th>1stD_Offense</th>\n",
       "      <th>TotYd_Offense</th>\n",
       "      <th>PassY_Offense</th>\n",
       "      <th>RushY_Offense</th>\n",
       "      <th>TO_Offense</th>\n",
       "      <th>1stD_Defense</th>\n",
       "      <th>TotYd_Defense</th>\n",
       "      <th>PassY_Defense</th>\n",
       "      <th>RushY_Defense</th>\n",
       "      <th>TO_Defense</th>\n",
       "    </tr>\n",
       "  </thead>\n",
       "  <tbody>\n",
       "    <tr>\n",
       "      <th>0</th>\n",
       "      <td>Philadelphia Eagles</td>\n",
       "      <td>28.0</td>\n",
       "      <td>21.666667</td>\n",
       "      <td>341.333333</td>\n",
       "      <td>171.0</td>\n",
       "      <td>170.333333</td>\n",
       "      <td>1.0</td>\n",
       "      <td>15.666667</td>\n",
       "      <td>246.666667</td>\n",
       "      <td>145.0</td>\n",
       "      <td>101.666667</td>\n",
       "      <td>1.333333</td>\n",
       "    </tr>\n",
       "  </tbody>\n",
       "</table>\n",
       "</div>"
      ],
      "text/plain": [
       "                  Team  Score  1stD_Offense  TotYd_Offense  PassY_Offense  \\\n",
       "0  Philadelphia Eagles   28.0     21.666667     341.333333          171.0   \n",
       "\n",
       "   RushY_Offense  TO_Offense  1stD_Defense  TotYd_Defense  PassY_Defense  \\\n",
       "0     170.333333         1.0     15.666667     246.666667          145.0   \n",
       "\n",
       "   RushY_Defense  TO_Defense  \n",
       "0     101.666667    1.333333  "
      ]
     },
     "execution_count": 4,
     "metadata": {},
     "output_type": "execute_result"
    }
   ],
   "source": [
    "#use average of playoffs as predict data\n",
    "test2 = file2.iloc[[17,18,36],:].groupby(\"Team\").mean().reset_index(drop=False)\n",
    "test2"
   ]
  },
  {
   "cell_type": "code",
   "execution_count": 5,
   "id": "85dd448a",
   "metadata": {},
   "outputs": [
    {
     "data": {
      "text/html": [
       "<div>\n",
       "<style scoped>\n",
       "    .dataframe tbody tr th:only-of-type {\n",
       "        vertical-align: middle;\n",
       "    }\n",
       "\n",
       "    .dataframe tbody tr th {\n",
       "        vertical-align: top;\n",
       "    }\n",
       "\n",
       "    .dataframe thead th {\n",
       "        text-align: right;\n",
       "    }\n",
       "</style>\n",
       "<table border=\"1\" class=\"dataframe\">\n",
       "  <thead>\n",
       "    <tr style=\"text-align: right;\">\n",
       "      <th></th>\n",
       "      <th>Team</th>\n",
       "      <th>Score</th>\n",
       "      <th>1stD_Offense</th>\n",
       "      <th>TotYd_Offense</th>\n",
       "      <th>PassY_Offense</th>\n",
       "      <th>RushY_Offense</th>\n",
       "      <th>TO_Offense</th>\n",
       "      <th>1stD_Defense</th>\n",
       "      <th>TotYd_Defense</th>\n",
       "      <th>PassY_Defense</th>\n",
       "      <th>RushY_Defense</th>\n",
       "      <th>TO_Defense</th>\n",
       "    </tr>\n",
       "  </thead>\n",
       "  <tbody>\n",
       "    <tr>\n",
       "      <th>0</th>\n",
       "      <td>Kansas City Chiefs</td>\n",
       "      <td>44</td>\n",
       "      <td>33</td>\n",
       "      <td>488</td>\n",
       "      <td>360</td>\n",
       "      <td>128</td>\n",
       "      <td>1</td>\n",
       "      <td>18</td>\n",
       "      <td>282</td>\n",
       "      <td>179</td>\n",
       "      <td>103</td>\n",
       "      <td>0</td>\n",
       "    </tr>\n",
       "    <tr>\n",
       "      <th>1</th>\n",
       "      <td>Kansas City Chiefs</td>\n",
       "      <td>27</td>\n",
       "      <td>15</td>\n",
       "      <td>319</td>\n",
       "      <td>226</td>\n",
       "      <td>93</td>\n",
       "      <td>0</td>\n",
       "      <td>21</td>\n",
       "      <td>401</td>\n",
       "      <td>326</td>\n",
       "      <td>75</td>\n",
       "      <td>1</td>\n",
       "    </tr>\n",
       "    <tr>\n",
       "      <th>2</th>\n",
       "      <td>Kansas City Chiefs</td>\n",
       "      <td>17</td>\n",
       "      <td>20</td>\n",
       "      <td>315</td>\n",
       "      <td>257</td>\n",
       "      <td>58</td>\n",
       "      <td>2</td>\n",
       "      <td>19</td>\n",
       "      <td>259</td>\n",
       "      <td>177</td>\n",
       "      <td>82</td>\n",
       "      <td>1</td>\n",
       "    </tr>\n",
       "    <tr>\n",
       "      <th>3</th>\n",
       "      <td>Kansas City Chiefs</td>\n",
       "      <td>41</td>\n",
       "      <td>27</td>\n",
       "      <td>417</td>\n",
       "      <td>228</td>\n",
       "      <td>189</td>\n",
       "      <td>1</td>\n",
       "      <td>27</td>\n",
       "      <td>376</td>\n",
       "      <td>373</td>\n",
       "      <td>3</td>\n",
       "      <td>2</td>\n",
       "    </tr>\n",
       "    <tr>\n",
       "      <th>4</th>\n",
       "      <td>Kansas City Chiefs</td>\n",
       "      <td>30</td>\n",
       "      <td>29</td>\n",
       "      <td>368</td>\n",
       "      <td>265</td>\n",
       "      <td>103</td>\n",
       "      <td>0</td>\n",
       "      <td>18</td>\n",
       "      <td>378</td>\n",
       "      <td>223</td>\n",
       "      <td>155</td>\n",
       "      <td>0</td>\n",
       "    </tr>\n",
       "  </tbody>\n",
       "</table>\n",
       "</div>"
      ],
      "text/plain": [
       "                 Team  Score  1stD_Offense  TotYd_Offense  PassY_Offense  \\\n",
       "0  Kansas City Chiefs     44            33            488            360   \n",
       "1  Kansas City Chiefs     27            15            319            226   \n",
       "2  Kansas City Chiefs     17            20            315            257   \n",
       "3  Kansas City Chiefs     41            27            417            228   \n",
       "4  Kansas City Chiefs     30            29            368            265   \n",
       "\n",
       "   RushY_Offense  TO_Offense  1stD_Defense  TotYd_Defense  PassY_Defense  \\\n",
       "0            128           1            18            282            179   \n",
       "1             93           0            21            401            326   \n",
       "2             58           2            19            259            177   \n",
       "3            189           1            27            376            373   \n",
       "4            103           0            18            378            223   \n",
       "\n",
       "   RushY_Defense  TO_Defense  \n",
       "0            103           0  \n",
       "1             75           1  \n",
       "2             82           1  \n",
       "3              3           2  \n",
       "4            155           0  "
      ]
     },
     "execution_count": 5,
     "metadata": {},
     "output_type": "execute_result"
    }
   ],
   "source": [
    "file1.head()"
   ]
  },
  {
   "cell_type": "code",
   "execution_count": 6,
   "id": "39fd8d10",
   "metadata": {},
   "outputs": [
    {
     "data": {
      "text/html": [
       "<div>\n",
       "<style scoped>\n",
       "    .dataframe tbody tr th:only-of-type {\n",
       "        vertical-align: middle;\n",
       "    }\n",
       "\n",
       "    .dataframe tbody tr th {\n",
       "        vertical-align: top;\n",
       "    }\n",
       "\n",
       "    .dataframe thead th {\n",
       "        text-align: right;\n",
       "    }\n",
       "</style>\n",
       "<table border=\"1\" class=\"dataframe\">\n",
       "  <thead>\n",
       "    <tr style=\"text-align: right;\">\n",
       "      <th></th>\n",
       "      <th>Team</th>\n",
       "      <th>Score</th>\n",
       "      <th>1stD_Offense</th>\n",
       "      <th>TotYd_Offense</th>\n",
       "      <th>PassY_Offense</th>\n",
       "      <th>RushY_Offense</th>\n",
       "      <th>TO_Offense</th>\n",
       "      <th>1stD_Defense</th>\n",
       "      <th>TotYd_Defense</th>\n",
       "      <th>PassY_Defense</th>\n",
       "      <th>RushY_Defense</th>\n",
       "      <th>TO_Defense</th>\n",
       "    </tr>\n",
       "  </thead>\n",
       "  <tbody>\n",
       "    <tr>\n",
       "      <th>0</th>\n",
       "      <td>Philadelphia Eagles</td>\n",
       "      <td>38</td>\n",
       "      <td>27</td>\n",
       "      <td>455</td>\n",
       "      <td>239</td>\n",
       "      <td>216</td>\n",
       "      <td>0</td>\n",
       "      <td>23</td>\n",
       "      <td>386</td>\n",
       "      <td>205</td>\n",
       "      <td>181</td>\n",
       "      <td>1</td>\n",
       "    </tr>\n",
       "    <tr>\n",
       "      <th>1</th>\n",
       "      <td>Philadelphia Eagles</td>\n",
       "      <td>24</td>\n",
       "      <td>25</td>\n",
       "      <td>486</td>\n",
       "      <td>323</td>\n",
       "      <td>163</td>\n",
       "      <td>1</td>\n",
       "      <td>20</td>\n",
       "      <td>264</td>\n",
       "      <td>202</td>\n",
       "      <td>62</td>\n",
       "      <td>3</td>\n",
       "    </tr>\n",
       "    <tr>\n",
       "      <th>2</th>\n",
       "      <td>Philadelphia Eagles</td>\n",
       "      <td>24</td>\n",
       "      <td>21</td>\n",
       "      <td>400</td>\n",
       "      <td>328</td>\n",
       "      <td>72</td>\n",
       "      <td>0</td>\n",
       "      <td>20</td>\n",
       "      <td>240</td>\n",
       "      <td>153</td>\n",
       "      <td>87</td>\n",
       "      <td>1</td>\n",
       "    </tr>\n",
       "    <tr>\n",
       "      <th>3</th>\n",
       "      <td>Philadelphia Eagles</td>\n",
       "      <td>29</td>\n",
       "      <td>25</td>\n",
       "      <td>401</td>\n",
       "      <td>191</td>\n",
       "      <td>210</td>\n",
       "      <td>1</td>\n",
       "      <td>13</td>\n",
       "      <td>219</td>\n",
       "      <td>148</td>\n",
       "      <td>71</td>\n",
       "      <td>5</td>\n",
       "    </tr>\n",
       "    <tr>\n",
       "      <th>4</th>\n",
       "      <td>Philadelphia Eagles</td>\n",
       "      <td>20</td>\n",
       "      <td>24</td>\n",
       "      <td>357</td>\n",
       "      <td>218</td>\n",
       "      <td>139</td>\n",
       "      <td>0</td>\n",
       "      <td>23</td>\n",
       "      <td>363</td>\n",
       "      <td>239</td>\n",
       "      <td>124</td>\n",
       "      <td>1</td>\n",
       "    </tr>\n",
       "  </tbody>\n",
       "</table>\n",
       "</div>"
      ],
      "text/plain": [
       "                  Team  Score  1stD_Offense  TotYd_Offense  PassY_Offense  \\\n",
       "0  Philadelphia Eagles     38            27            455            239   \n",
       "1  Philadelphia Eagles     24            25            486            323   \n",
       "2  Philadelphia Eagles     24            21            400            328   \n",
       "3  Philadelphia Eagles     29            25            401            191   \n",
       "4  Philadelphia Eagles     20            24            357            218   \n",
       "\n",
       "   RushY_Offense  TO_Offense  1stD_Defense  TotYd_Defense  PassY_Defense  \\\n",
       "0            216           0            23            386            205   \n",
       "1            163           1            20            264            202   \n",
       "2             72           0            20            240            153   \n",
       "3            210           1            13            219            148   \n",
       "4            139           0            23            363            239   \n",
       "\n",
       "   RushY_Defense  TO_Defense  \n",
       "0            181           1  \n",
       "1             62           3  \n",
       "2             87           1  \n",
       "3             71           5  \n",
       "4            124           1  "
      ]
     },
     "execution_count": 6,
     "metadata": {},
     "output_type": "execute_result"
    }
   ],
   "source": [
    "file2.head()"
   ]
  },
  {
   "cell_type": "markdown",
   "id": "7ca83417",
   "metadata": {},
   "source": [
    "## Linear regression"
   ]
  },
  {
   "cell_type": "code",
   "execution_count": 7,
   "id": "67d5d6cf",
   "metadata": {},
   "outputs": [
    {
     "name": "stdout",
     "output_type": "stream",
     "text": [
      "prediction for Kansas:  29.0\n",
      "accuracy rate:  0.65\n",
      "MAPE:  0.14\n",
      "MSE:  23.69\n"
     ]
    }
   ],
   "source": [
    "#team1 score: Kansas\n",
    "from sklearn.linear_model import LinearRegression\n",
    "from sklearn.model_selection import train_test_split\n",
    "from sklearn.metrics import mean_squared_error\n",
    "\n",
    "X_linear = file1.iloc[:,2:]\n",
    "y_linear = file1.iloc[:,1]\n",
    "\n",
    "#split data into training and testing\n",
    "X_linear_train, X_linear_test, y_linear_train, y_linear_test = train_test_split(X_linear, y_linear, test_size=0.2, random_state=5)\n",
    "\n",
    "reg1 = LinearRegression().fit(X_linear_train, y_linear_train)\n",
    "y_pred1 = reg1.predict(X_linear_test)\n",
    "\n",
    "def mape(y_actual, y_predicted):\n",
    "    mape = np.mean(np.abs((y_actual - y_predicted)/y_actual))\n",
    "    return mape\n",
    "\n",
    "print('prediction for Kansas: ', round(reg1.predict(test1.iloc[:,2:])[0],0))\n",
    "print('accuracy rate: ', round(reg1.score(X_linear_test, y_linear_test),2))\n",
    "print('MAPE: ', round(mape(y_linear_test, y_pred1),2))\n",
    "print('MSE: ' , round(mean_squared_error(y_linear_test, y_pred1),2))"
   ]
  },
  {
   "cell_type": "code",
   "execution_count": 8,
   "id": "ee084e8a",
   "metadata": {
    "scrolled": false
   },
   "outputs": [
    {
     "name": "stdout",
     "output_type": "stream",
     "text": [
      "prediction for Philadelphia:  30.0\n",
      "accuracy rate:  0.62\n",
      "MAPE:  0.24\n",
      "MSE:  33.73\n"
     ]
    }
   ],
   "source": [
    "#team2 score: Philadelphia\n",
    "X_linear2 = file2.iloc[:,2:]\n",
    "y_linear2 = file2.iloc[:,1]\n",
    "\n",
    "#split data into training and testing\n",
    "X_linear_train2, X_linear_test2, y_linear_train2, y_linear_test2 = train_test_split(X_linear2, y_linear2, test_size=0.2, random_state=55)\n",
    "\n",
    "reg2 = LinearRegression().fit(X_linear_train2, y_linear_train2)\n",
    "y_pred2 = reg1.predict(X_linear_test2)\n",
    "\n",
    "print('prediction for Philadelphia: ', round(reg2.predict(test2.iloc[:,2:])[0],0))\n",
    "print('accuracy rate: ', round(reg2.score(X_linear_test2 , y_linear_test2),2))\n",
    "print('MAPE: ', round(mape(y_linear_test2, y_pred2),2))\n",
    "print('MSE: ' , round(mean_squared_error(y_linear_test2, y_pred2),2))"
   ]
  },
  {
   "cell_type": "markdown",
   "id": "42f965e4",
   "metadata": {},
   "source": [
    "## Neural network"
   ]
  },
  {
   "cell_type": "code",
   "execution_count": 9,
   "id": "98bcd8b4",
   "metadata": {
    "scrolled": false
   },
   "outputs": [
    {
     "name": "stdout",
     "output_type": "stream",
     "text": [
      "prediction for Kansas:  27\n",
      "accuracy rate:  0.08\n",
      "MAPE:  0.34\n",
      "MSE:  127.58\n"
     ]
    }
   ],
   "source": [
    "#team1 score: Kansas\n",
    "from sklearn.neural_network import MLPClassifier\n",
    "\n",
    "X_neu1 = file1.iloc[:,2:]\n",
    "y_neu1 = file1.iloc[:,1]\n",
    "\n",
    "#split data into training and testing\n",
    "X_neu_train, X_neu_test, y_neu_train, y_neu_test = train_test_split(X_neu1, y_neu1, test_size=0.2, random_state=10)\n",
    "\n",
    "clf_new1 = MLPClassifier(solver='lbfgs', alpha=1e-5, hidden_layer_sizes=(10, 2), random_state=1)\n",
    "clf_new1.fit(X_neu_train, y_neu_train)\n",
    "MLPClassifier(alpha=1e-05, hidden_layer_sizes=(5, 2), random_state=1, solver='lbfgs')\n",
    "y_pred1 = clf_new1.predict(X_neu_test)\n",
    "\n",
    "print('prediction for Kansas: ', round(clf_new1.predict(test1.iloc[:,2:])[0],0))\n",
    "print('accuracy rate: ', round(clf_new1.score(X_neu_test, y_neu_test),2))\n",
    "print('MAPE: ', round(mape(y_pred1, y_neu_test),2))\n",
    "print('MSE: ' , round(mean_squared_error(y_pred1, y_neu_test),2))"
   ]
  },
  {
   "cell_type": "code",
   "execution_count": 10,
   "id": "7002fd4c",
   "metadata": {},
   "outputs": [
    {
     "name": "stdout",
     "output_type": "stream",
     "text": [
      "prediction for Philadelphia:  17\n",
      "accuracy rate:  0.09\n",
      "MAPE:  0.49\n",
      "MSE:  96.55\n"
     ]
    }
   ],
   "source": [
    "#team2 score: Philadelphia\n",
    "from sklearn.neural_network import MLPClassifier\n",
    "\n",
    "X_neu2 = file2.iloc[:,2:]\n",
    "y_neu2 = file2.iloc[:,1]\n",
    "\n",
    "#split data into training and testing\n",
    "X_neu_train2, X_neu_test2, y_neu_train2, y_neu_test2 = train_test_split(X_neu2, y_neu2, test_size=0.2, random_state=55)\n",
    "\n",
    "clf_new2 = MLPClassifier(solver='lbfgs', alpha=1e-5, hidden_layer_sizes=(10, 2), random_state=1)\n",
    "clf_new2.fit(X_neu_train2, y_neu_train2)\n",
    "MLPClassifier(alpha=1e-05, hidden_layer_sizes=(5, 2), random_state=1, solver='lbfgs')\n",
    "y_pred2 = clf_new2.predict(X_neu_test2)\n",
    "\n",
    "print('prediction for Philadelphia: ', round(clf_new2.predict(test2.iloc[:,2:])[0],0))\n",
    "print('accuracy rate: ', round(clf_new2.score(X_neu_test2, y_neu_test2),2))\n",
    "print('MAPE: ', round(mape(y_pred2, y_neu_test2),2))\n",
    "print('MSE: ' , round(mean_squared_error(y_pred2, y_neu_test2),2))"
   ]
  },
  {
   "cell_type": "markdown",
   "id": "0c960280",
   "metadata": {},
   "source": [
    "## Random forest"
   ]
  },
  {
   "cell_type": "code",
   "execution_count": 11,
   "id": "92efac19",
   "metadata": {},
   "outputs": [
    {
     "name": "stdout",
     "output_type": "stream",
     "text": [
      "prediction of Kansas:  28.0\n",
      "accuracy rate:  0.0\n",
      "MAPE:  0.2\n",
      "MSE:  35.95\n"
     ]
    }
   ],
   "source": [
    "#team 1 score : Kansas\n",
    "from sklearn.ensemble import RandomForestRegressor\n",
    "\n",
    "X_rf1 = file1.iloc[:,2:]\n",
    "y_rf1 = file1.iloc[:,1]\n",
    "\n",
    "#split data into training and testing\n",
    "X_rf_train, X_rf_test, y_rf_train, y_rf_test = train_test_split(X_rf1, y_rf1, test_size=0.3, random_state=20)\n",
    "\n",
    "rf1 = RandomForestRegressor(n_estimators = 1000, random_state = 42)\n",
    "rf1.fit(X_rf_train, y_rf_train)\n",
    "y_pred1 = rf1.predict(X_rf_test)\n",
    "\n",
    "print(\"prediction of Kansas: \", round(rf1.predict(test1.iloc[:,2:])[0],0))\n",
    "print('accuracy rate: ', round(rf1.score(X_rf_test, y_rf_test),0))\n",
    "print('MAPE: ', round(mape(y_rf_test, y_pred1),2))\n",
    "print('MSE: ' , round(mean_squared_error(y_rf_test, y_pred1),2))"
   ]
  },
  {
   "cell_type": "code",
   "execution_count": 12,
   "id": "35034e0b",
   "metadata": {},
   "outputs": [
    {
     "name": "stdout",
     "output_type": "stream",
     "text": [
      "prediction of Philadelphia:  25.0\n",
      "accuracy rate:  0.0\n",
      "MAPE:  0.2\n",
      "MSE:  31.71\n"
     ]
    }
   ],
   "source": [
    "#team 2 score : Philadelphia\n",
    "X_rf2 = file2.iloc[:,2:]\n",
    "y_rf2 = file2.iloc[:,1]\n",
    "\n",
    "#split data into training and testing\n",
    "X_rf_train2, X_rf_test2, y_rf_train2, y_rf_test2 = train_test_split(X_rf2, y_rf2, test_size=0.25, random_state=30)\n",
    "\n",
    "rf2 = RandomForestRegressor(n_estimators = 1000, random_state = 42)\n",
    "rf2.fit(X_rf_train2, y_rf_train2)\n",
    "y_pred2 = rf1.predict(X_rf_test2)\n",
    "\n",
    "print(\"prediction of Philadelphia: \", round(rf2.predict(test2.iloc[:,2:])[0],0))\n",
    "print('accuracy rate: ', round(rf2.score(X_rf_test2, y_rf_test2),0))\n",
    "print('MAPE: ', round(mape(y_rf_test2, y_pred2),2))\n",
    "print('MSE: ' , round(mean_squared_error(y_rf_test2, y_pred2),2))"
   ]
  },
  {
   "cell_type": "markdown",
   "id": "14af8d48",
   "metadata": {},
   "source": [
    "## KNN"
   ]
  },
  {
   "cell_type": "code",
   "execution_count": 13,
   "id": "3e26ce30",
   "metadata": {},
   "outputs": [
    {
     "name": "stdout",
     "output_type": "stream",
     "text": [
      "prediction of Kansas:  26.0\n",
      "accuracy rate:  1.0\n",
      "MAPE:  0.7\n",
      "MSE:  57.72\n"
     ]
    }
   ],
   "source": [
    "#team 1 score : Kansas\n",
    "from sklearn.neighbors import KNeighborsRegressor\n",
    "\n",
    "X_knn1 = file1.iloc[:,2:]\n",
    "y_knn1 = file1.iloc[:,1]\n",
    "\n",
    "#split data into training and testing\n",
    "X_knn_train, X_knn_test, y_knn_train, y_knn_test = train_test_split(X_knn1, y_knn1, test_size=0.15, random_state=60)\n",
    "\n",
    "knn_model1 = KNeighborsRegressor(n_neighbors=3)\n",
    "knn_model1.fit(X_knn_train, y_knn_train)\n",
    "y_pred = knn_model1.predict(X_knn_test)\n",
    "\n",
    "print(\"prediction of Kansas: \", round(knn_model1.predict(test1.iloc[:,2:])[0],0))\n",
    "print('accuracy rate: ', round(knn_model1.score(X_knn_test, y_knn_test),0))\n",
    "print('MAPE: ', round(mape(y_knn_test, y_pred),2))\n",
    "print('MSE: ' , round(mean_squared_error(y_knn_test, y_pred),2))"
   ]
  },
  {
   "cell_type": "code",
   "execution_count": 14,
   "id": "6c18fc68",
   "metadata": {},
   "outputs": [
    {
     "name": "stdout",
     "output_type": "stream",
     "text": [
      "prediction of Philadelphia:  17.0\n",
      "accuracy rate:  0.0\n",
      "MAPE:  0.16\n",
      "MSE:  22.39\n"
     ]
    }
   ],
   "source": [
    "#team 2 score : Philadelphia\n",
    "X_knn2 = file2.iloc[:,2:]\n",
    "y_knn2 = file2.iloc[:,1]\n",
    "\n",
    "#split data into training and testing\n",
    "X_knn_train2, X_knn_test2, y_knn_train2, y_knn_test2 = train_test_split(X_knn2, y_knn2, test_size=0.15, random_state=30)\n",
    "\n",
    "knn_model2 = KNeighborsRegressor(n_neighbors=3)\n",
    "knn_model2.fit(X_knn_train2, y_knn_train2)\n",
    "y_pred2 = knn_model2.predict(X_knn_test2)\n",
    "\n",
    "print(\"prediction of Philadelphia: \", round(knn_model2.predict(test2.iloc[:,2:])[0],0))\n",
    "print('accuracy rate: ', round(knn_model2.score(X_knn_test2, y_knn_test2),0))\n",
    "print('MAPE: ', round(mape(y_knn_test2, y_pred2),2))\n",
    "print('MSE: ' , round(mean_squared_error(y_knn_test2, y_pred2),2))"
   ]
  },
  {
   "cell_type": "markdown",
   "id": "cd20f7a0",
   "metadata": {},
   "source": [
    "## Naive Bayes"
   ]
  },
  {
   "cell_type": "code",
   "execution_count": 15,
   "id": "232627fa",
   "metadata": {},
   "outputs": [
    {
     "name": "stdout",
     "output_type": "stream",
     "text": [
      "prediction of Kansas:  27\n",
      "accuracy rate:  0.11\n",
      "MAPE:  0.95\n",
      "MSE:  99.56\n"
     ]
    }
   ],
   "source": [
    "#team 1 score : Kansas\n",
    "from sklearn.naive_bayes import GaussianNB\n",
    "from sklearn.metrics import confusion_matrix, accuracy_score\n",
    "\n",
    "X_naive1 = file1.iloc[:,2:]\n",
    "y_naive1 = file1.iloc[:,1]\n",
    "\n",
    "#split data into training and testing\n",
    "X_nb_train, X_nb_test, y_nb_train, y_nb_test = train_test_split(X_naive1, y_naive1, test_size=0.15, random_state=60)\n",
    "\n",
    "naive_classifier1 = GaussianNB()\n",
    "naive_classifier1.fit(X_nb_train, y_nb_train)\n",
    "y_pred1 = naive_classifier1.predict(X_nb_test)\n",
    "\n",
    "print(\"prediction of Kansas: \", round(naive_classifier1.predict(test1.iloc[:,2:])[0],0))\n",
    "print('accuracy rate: ', round(ac1,2))\n",
    "print('MAPE: ', round(mape(y_nb_test, y_pred1),2))\n",
    "print('MSE: ' , round(mean_squared_error(y_nb_test, y_pred1),2))"
   ]
  },
  {
   "cell_type": "code",
   "execution_count": 16,
   "id": "f1374408",
   "metadata": {},
   "outputs": [
    {
     "name": "stdout",
     "output_type": "stream",
     "text": [
      "prediction of Philadelphia:  29\n",
      "accuracy rate:  0.17\n",
      "MAPE:  0.26\n",
      "MSE:  37.67\n"
     ]
    }
   ],
   "source": [
    "#team 2 score : Philadelphia\n",
    "X_naive2 = file2.iloc[:,2:]\n",
    "y_naive2 = file2.iloc[:,1]\n",
    "\n",
    "#split data into training and testing\n",
    "X_nb_train2, X_nb_test2, y_nb_train2, y_nb_test2 = train_test_split(X_naive2, y_naive2, test_size=0.1, random_state=60)\n",
    "\n",
    "naive_classifier2 = GaussianNB()\n",
    "naive_classifier2.fit(X_nb_train2, y_nb_train2)\n",
    "y_pred2 = naive_classifier2.predict(X_nb_test2)\n",
    "\n",
    "print(\"prediction of Philadelphia: \", round(naive_classifier2.predict(test2.iloc[:,2:])[0],0))\n",
    "print('accuracy rate: ', round(ac2,2))\n",
    "print('MAPE: ', round(mape(y_nb_test2, y_pred2),2))\n",
    "print('MSE: ' , round(mean_squared_error(y_nb_test2, y_pred2),2))"
   ]
  },
  {
   "cell_type": "markdown",
   "id": "c363892f",
   "metadata": {},
   "source": [
    "# Conclusion"
   ]
  },
  {
   "cell_type": "markdown",
   "id": "83bc70f5",
   "metadata": {},
   "source": [
    "\n",
    "**Linear regression: \n",
    "<br>\n",
    "<br>\n",
    "Kansas accuracy: 0.65\n",
    "<br>\n",
    "Philadelphia accuracy: 0.62\n",
    "<br>\n",
    "score(Kansas v.s. Philadelphia): 29:30**\n",
    "***"
   ]
  },
  {
   "cell_type": "markdown",
   "id": "b4f5e8c6",
   "metadata": {},
   "source": [
    "\n",
    "**Neural network: \n",
    "<br>\n",
    "<br>\n",
    "Kansas accuracy: 0.08\n",
    "<br>\n",
    "Philadelphia accuracy: 0.09\n",
    "<br>\n",
    "score(Kansas v.s. Philadelphia): 27:17**\n",
    "***"
   ]
  },
  {
   "cell_type": "markdown",
   "id": "559f8f4b",
   "metadata": {},
   "source": [
    "**Random forest: \n",
    "<br>\n",
    "<br>\n",
    "Kansas accuracy: 0.38\n",
    "<br>\n",
    "Philadelphia accuracy: 0.49\n",
    "<br>\n",
    "score(Kansas v.s. Philadelphia): 28:25**\n",
    "***"
   ]
  },
  {
   "cell_type": "markdown",
   "id": "88164033",
   "metadata": {},
   "source": [
    "**KNN: \n",
    "<br>\n",
    "<br>\n",
    "Kansas accuracy: 0.53\n",
    "<br>\n",
    "Philadelphia accuracy: 0.41\n",
    "<br>\n",
    "score(Kansas v.s. Philadelphia): 26:17**\n",
    "***"
   ]
  },
  {
   "cell_type": "markdown",
   "id": "89c42757",
   "metadata": {},
   "source": [
    "**Naive Bayes: \n",
    "<br>\n",
    "<br>\n",
    "Kansas accuracy: 0.11\n",
    "<br>\n",
    "Philadelphia accuracy: 0.17\n",
    "<br>\n",
    "score(Kansas v.s. Philadelphia): 27:29**\n",
    "***"
   ]
  },
  {
   "cell_type": "markdown",
   "id": "6a11418a",
   "metadata": {},
   "source": [
    "## Personal Prediction:\n",
    "\n",
    "## score(Kansas v.s. Philadelphia): 26:28"
   ]
  }
 ],
 "metadata": {
  "kernelspec": {
   "display_name": "Python 3 (ipykernel)",
   "language": "python",
   "name": "python3"
  },
  "language_info": {
   "codemirror_mode": {
    "name": "ipython",
    "version": 3
   },
   "file_extension": ".py",
   "mimetype": "text/x-python",
   "name": "python",
   "nbconvert_exporter": "python",
   "pygments_lexer": "ipython3",
   "version": "3.9.12"
  }
 },
 "nbformat": 4,
 "nbformat_minor": 5
}
